{
 "cells": [
  {
   "cell_type": "code",
   "execution_count": 1,
   "metadata": {},
   "outputs": [],
   "source": [
    "import pickle\n",
    "from glob import glob\n",
    "import os\n",
    "import sys\n",
    "import matplotlib.pyplot as plt\n",
    "import numpy as np\n",
    "from statistics import median, quantiles"
   ]
  },
  {
   "cell_type": "code",
   "execution_count": 14,
   "metadata": {
    "tags": []
   },
   "outputs": [
    {
     "output_type": "stream",
     "name": "stdout",
     "text": "/home/s2971992/projects/gptnl\n"
    }
   ],
   "source": [
    "os.chdir('/home/s2971992/projects/gptnl')\n",
    "!pwd"
   ]
  },
  {
   "cell_type": "code",
   "execution_count": 15,
   "metadata": {},
   "outputs": [],
   "source": [
    "subsets = ['valid', 'train']"
   ]
  },
  {
   "cell_type": "code",
   "execution_count": 16,
   "metadata": {
    "tags": []
   },
   "outputs": [
    {
     "output_type": "stream",
     "name": "stdout",
     "text": "valid 368\n"
    }
   ],
   "source": [
    "median_lengths = []\n",
    "\n",
    "for subset in subsets:\n",
    "    lengths_path = f'data/ita/preparation/prepared/data-{subset}.pkl.lengths'\n",
    "    with open(lengths_path, 'rb') as f:\n",
    "        lengths = pickle.load(f)\n",
    "\n",
    "    l = int(median(lengths))\n",
    "    print(subset, l)\n",
    "    median_lengths.append(l)"
   ]
  },
  {
   "cell_type": "code",
   "execution_count": 18,
   "metadata": {
    "tags": []
   },
   "outputs": [
    {
     "output_type": "stream",
     "name": "stdout",
     "text": "valid 128\n"
    }
   ],
   "source": [
    "q_coverages = []\n",
    "coverages = []\n",
    "\n",
    "for subset in subsets:\n",
    "    coverages_path = f'data/ita/preparation/prepared/data-{subset}.pkl.coverage'\n",
    "    with open(coverages_path, 'rb') as f:\n",
    "        covs = pickle.load(f)\n",
    "\n",
    "    c = int(quantiles(covs.values(), n=4)[0])\n",
    "    print(subset, c)\n",
    "    q_coverages.append(c)\n",
    "    coverages.append(covs)"
   ]
  }
 ],
 "metadata": {
  "language_info": {
   "codemirror_mode": {
    "name": "ipython",
    "version": 3
   },
   "file_extension": ".py",
   "mimetype": "text/x-python",
   "name": "python",
   "nbconvert_exporter": "python",
   "pygments_lexer": "ipython3",
   "version": "3.8.5-final"
  },
  "orig_nbformat": 2,
  "kernelspec": {
   "name": "python3",
   "display_name": "Python 3"
  }
 },
 "nbformat": 4,
 "nbformat_minor": 2
}